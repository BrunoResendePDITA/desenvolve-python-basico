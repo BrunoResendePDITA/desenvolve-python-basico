{
 "cells": [
  {
   "cell_type": "markdown",
   "id": "0d5035b5",
   "metadata": {},
   "source": [
    "# Listas\n",
    "\n",
    "## Aulas 6.1 a 6.5 "
   ]
  },
  {
   "cell_type": "markdown",
   "id": "0bdece85",
   "metadata": {},
   "source": [
    "### Q1. \n",
    "\n",
    "Usando a função embutida ```map``` e criando uma função ```lambda```, transforme uma lista com os raios de múltiplas circunferências em uma nova lista com as respectivas áreas. O cálculo de cada área é dado por: ```pi*(raio**2)```\n",
    "- Use a constante pi da biblioteca math \n",
    "- Arredonde o resultado para 2 casas decimais\n"
   ]
  },
  {
   "cell_type": "code",
   "execution_count": 2,
   "id": "0a258eba",
   "metadata": {},
   "outputs": [
    {
     "name": "stdout",
     "output_type": "stream",
     "text": [
      "[7.0685834705770345, 2.0106192982974678, 16.619025137490002, 78.53981633974483]\n"
     ]
    }
   ],
   "source": [
    "import math\n",
    "\n",
    "calc_area_circulo = lambda raio: math.pi * (raio**2)\n",
    "\n",
    "raios = [1.5, 0.8, 2.3, 5.0]\n",
    "\n",
    "areas_circulos = map(calc_area_circulo, raios)\n",
    "\n",
    "print(list(areas_circulos))\n"
   ]
  },
  {
   "cell_type": "markdown",
   "id": "649a5082",
   "metadata": {},
   "source": [
    "### Q2. \n",
    "\n",
    "Crie uma função customizada e aplique a função embutida ```filter``` para operar em uma lista de listas contendo os lados de múltiplos triângulos. Construa uma nova lista contendo apenas os triângulos equiláteros, ou seja, com os três lados iguais.\n"
   ]
  },
  {
   "cell_type": "code",
   "execution_count": null,
   "id": "47cb0573",
   "metadata": {},
   "outputs": [
    {
     "name": "stdout",
     "output_type": "stream",
     "text": [
      "[[2, 2, 2], [4, 4, 4]]\n"
     ]
    }
   ],
   "source": [
    "## Crie a função customizada\n",
    "def testa_equilatero(lados):\n",
    "    if lados[0] == lados[1] == lados[2]:\n",
    "        return True\n",
    "    else:\n",
    "        return False\n",
    "\n",
    "\n",
    "triangulos = [[2,2,2], [3,4,5], [3,2,2], [4,4,4]]\n",
    "equilateros = filter(testa_equilatero, triangulos)\n",
    "\n",
    "print(list(equilateros))\n"
   ]
  },
  {
   "cell_type": "markdown",
   "id": "bb62d219",
   "metadata": {},
   "source": [
    "### Q3. \n",
    "Crie uma função chamada ```ordena_por_comprimento``` que aceite uma lista de strings e a ordene com base no comprimento das strings, do menor para o maior. Utilize a função ```sorte``` e uma expressão ```lambda```."
   ]
  },
  {
   "cell_type": "code",
   "execution_count": 4,
   "id": "add41556",
   "metadata": {},
   "outputs": [
    {
     "name": "stdout",
     "output_type": "stream",
     "text": [
      "['Sol', 'Joao', 'Jose', 'Luna', 'Enzo', 'Maria', 'Bento', 'Gabriela', 'Fernanda']\n"
     ]
    }
   ],
   "source": [
    "ordena_por_comprimento = lambda palavras: sorted(palavras, key=len)\n",
    "\n",
    "nomes = [\"Joao\", \"Maria\", \"Jose\", \"Gabriela\", \"Sol\", \"Luna\", \"Bento\", \"Enzo\", \"Fernanda\"]\n",
    "\n",
    "print(ordena_por_comprimento(nomes))\n"
   ]
  },
  {
   "cell_type": "markdown",
   "id": "8710b1a7",
   "metadata": {},
   "source": [
    "### Q4.\n",
    "\n",
    "Crie uma lista de listas (uma matriz de 2 dimensões) de tamanho $n \\times n$, com $n$ dado pelo usuário. Cada elemento da matriz deve ser o produto dos índices da linha pela coluna.\n",
    "\n",
    "Exemplo:\n",
    "```\n",
    "Digite n: 4\n",
    "Matriz:\n",
    "[[0, 0, 0, 0],\n",
    " [0, 1, 2, 3],\n",
    " [0, 2, 4, 6],\n",
    " [0, 3, 6, 9]]\n",
    "```"
   ]
  },
  {
   "cell_type": "code",
   "execution_count": null,
   "id": "0b7ee921",
   "metadata": {},
   "outputs": [
    {
     "name": "stdout",
     "output_type": "stream",
     "text": [
      "[0, 0, 0, 0, 0]\n",
      "[0, 1, 2, 3, 4]\n",
      "[0, 2, 4, 6, 8]\n",
      "[0, 3, 6, 9, 12]\n",
      "[0, 4, 8, 12, 16]\n"
     ]
    }
   ],
   "source": [
    "n = int(input('Digite um único número para representar a quantidade de linhas e colunas: '))\n",
    "\n",
    "matriz = list(map(lambda j: [i * j for i in range(n)], range(n)))\n",
    "\n",
    "for i in matriz:\n",
    "    print(i)\n"
   ]
  },
  {
   "cell_type": "markdown",
   "id": "f41781df",
   "metadata": {},
   "source": [
    "### Q5.\n",
    "\n",
    "Dada uma lista de números inteiros, implemente uma função em Python chamada ```pares_unicos``` que encontre e retorne todos os pares únicos de elementos na lista cuja soma seja igual a um determinado valor. Considere que a ordem dos pares não é relevante."
   ]
  },
  {
   "cell_type": "code",
   "execution_count": 13,
   "id": "7a76f765",
   "metadata": {},
   "outputs": [
    {
     "name": "stdout",
     "output_type": "stream",
     "text": [
      "[(3, 7), (4, 6)]\n"
     ]
    }
   ],
   "source": [
    "def pares_unicos(numeros, soma_objetivo):\n",
    "    valor_atual = 0\n",
    "    pares_encontrados = list(set([(i, j) for i in numeros for j in numeros if i + j == soma_objetivo and i < j]))\n",
    "\n",
    "    return pares_encontrados\n",
    "\n",
    "# Exemplo de uso:\n",
    "nums = [3, 4, 5, 6, 7]\n",
    "soma = 10\n",
    "resultado = pares_unicos(nums, soma)\n",
    "print(resultado)  # Saída esperada: [(3, 7), (4, 6)]"
   ]
  },
  {
   "cell_type": "markdown",
   "id": "87e44893",
   "metadata": {},
   "source": [
    "### Q5.\n",
    "\n",
    "Escreva um programa para encontrar a diferença entre duas listas, incluindo elementos duplicados.\n",
    "\n",
    "Ex:\n",
    "```\n",
    "Listas originais: \n",
    "[1, 1, 2, 3, 3, 4, 4, 5, 6, 7]\n",
    "[1, 1, 2, 4, 5, 6]\n",
    "Diferença entre as listas:\n",
    "[3, 3, 4, 7]\n",
    "```"
   ]
  },
  {
   "cell_type": "code",
   "execution_count": null,
   "id": "7edc027c",
   "metadata": {},
   "outputs": [
    {
     "name": "stdout",
     "output_type": "stream",
     "text": [
      "[1, 4, 9, 3, 5, 7, 10, 10]\n"
     ]
    }
   ],
   "source": [
    "diferença = []\n",
    "\n",
    "lista1 = [1, 1, 2, 3, 3, 4, 4, 5, 6, 7]\n",
    "lista2 = [1, 1, 2, 4, 5, 6]\n",
    "\n",
    "\n",
    "for i in lista1:\n",
    "    if i not in diferença:\n",
    "        if lista1.count(i) > lista2.count(i):\n",
    "            for vezes in range(lista1.count(i) - lista2.count(i)):\n",
    "                diferença.append(i)\n",
    "\n",
    "for j in lista2:\n",
    "    if j not in diferença:\n",
    "        if lista2.count(j) > lista1.count(j):\n",
    "            for vezes in range(lista2.count(j) - lista1.count(j)):\n",
    "                diferença.append(j)\n",
    "\n",
    "print(diferença)\n",
    "\n"
   ]
  },
  {
   "cell_type": "markdown",
   "id": "f4c4236d",
   "metadata": {},
   "source": [
    "### Q6.\n",
    "\n",
    "Dada uma lista aleatória, escreva um programa que separa os valores em listas menores de acordo com o tamanho solicitado. Caso não seja possível repartir igualmente a lista original, a última sublista deve conter os elementos remanescentes, como indicado no exemplo a seguir.\n",
    "\n",
    "Note que seu programa deve continuar executando em um laço infinito até que o usuário informe o tamanho 0 na entrada solicitada.\n",
    "\n",
    "```\n",
    "Lista original:\n",
    "[12, 45, 23, 67, 78, 90, 45, 32, 100, 76, 38, 62, 73, 29, 83]\n",
    "\n",
    "Tamanho para divisão: 3\n",
    "Subslistas:\n",
    "[[12, 45, 23], [67, 78, 90], [45, 32, 100], [76, 38, 62], [73, 29, 83]]\n",
    "\n",
    "Tamanho para divisão: 4\n",
    "Subslistas: [[12, 45, 23, 67], [78, 90, 45, 32], [100, 76, 38, 62], [73, 29, 83]]\n",
    "\n",
    "Tamanho para divisão: 0\n",
    "```"
   ]
  },
  {
   "cell_type": "code",
   "execution_count": 7,
   "id": "792563de",
   "metadata": {},
   "outputs": [
    {
     "name": "stdout",
     "output_type": "stream",
     "text": [
      "[1, 68, 40, 80, 25, 61, 86, 24, 94, 47, 72, 83, 93, 45, 80, 39, 9, 4, 22, 26]\n",
      "[[1, 68], [40, 80], [25, 61], [86, 24], [94, 47], [72, 83], [93, 45], [80, 39], [9, 4], [22, 26]]\n",
      "[1, 68, 40, 80, 25, 61, 86, 24, 94, 47, 72, 83, 93, 45, 80, 39, 9, 4, 22, 26]\n",
      "[[1, 68, 40], [80, 25, 61], [86, 24, 94], [47, 72, 83], [93, 45, 80], [39, 9, 4], [22, 26]]\n",
      "[1, 68, 40, 80, 25, 61, 86, 24, 94, 47, 72, 83, 93, 45, 80, 39, 9, 4, 22, 26]\n",
      "[[1, 68, 40, 80], [25, 61, 86, 24], [94, 47, 72, 83], [93, 45, 80, 39], [9, 4, 22, 26]]\n",
      "[1, 68, 40, 80, 25, 61, 86, 24, 94, 47, 72, 83, 93, 45, 80, 39, 9, 4, 22, 26]\n",
      "[[1, 68, 40, 80, 25], [61, 86, 24, 94, 47], [72, 83, 93, 45, 80], [39, 9, 4, 22, 26]]\n",
      "[1, 68, 40, 80, 25, 61, 86, 24, 94, 47, 72, 83, 93, 45, 80, 39, 9, 4, 22, 26]\n",
      "[[1, 68, 40, 80, 25, 61], [86, 24, 94, 47, 72, 83], [93, 45, 80, 39, 9, 4], [22, 26]]\n",
      "[1, 68, 40, 80, 25, 61, 86, 24, 94, 47, 72, 83, 93, 45, 80, 39, 9, 4, 22, 26]\n",
      "[[1, 68, 40, 80, 25, 61, 86], [24, 94, 47, 72, 83, 93, 45], [80, 39, 9, 4, 22, 26]]\n",
      "[1, 68, 40, 80, 25, 61, 86, 24, 94, 47, 72, 83, 93, 45, 80, 39, 9, 4, 22, 26]\n",
      "[[1, 68, 40, 80, 25, 61, 86, 24, 94], [47, 72, 83, 93, 45, 80, 39, 9, 4], [22, 26]]\n"
     ]
    }
   ],
   "source": [
    "import random\n",
    "lista = [random.randint(1,100) for i in range(20)]\n",
    "sublistas = []\n",
    "\n",
    "tamanho = int(input('Digite o tamanho para a divisão: '))\n",
    "while tamanho != 0:\n",
    "    for i in range(0, len(lista), tamanho):\n",
    "        if i + tamanho < len(lista):\n",
    "            sublistas.append(lista[i:i+tamanho])\n",
    "        else:\n",
    "            sublistas.append(lista[i: len(lista)])\n",
    "\n",
    "    print(lista)\n",
    "    print(sublistas)\n",
    "\n",
    "    sublistas = []\n",
    "\n",
    "    tamanho = int(input('Digite o tamanho para a divisão: '))\n",
    "\n",
    "    \n",
    "\n"
   ]
  },
  {
   "cell_type": "markdown",
   "id": "c65be32f",
   "metadata": {},
   "source": [
    "### Q7.\n",
    "\n",
    "Você está desenvolvendo um programa para determinar o vencedor de um jogo da velha. Escreva uma função ```avalia_tabuleiro()``` que recebe uma lista representando o estado atual do tabuleiro e determina se há um vencedor. \n",
    "\n",
    "A lista terá 3 sublistas, cada uma representando uma linha do tabuleiro. Cada elemento das sublistas pode ser 'X', 'O' ou vazio (' ').\n",
    "\n",
    "O programa deve imprimir o vencedor ('X', 'O'), se houver um, ou \"Empate\" se não houver vencedor. Um vencedor é determinado se houver três 'X' ou três 'O' em linha (horizontal, vertical ou diagonal).\n",
    "\n",
    "Exemplo:\n",
    "```python\n",
    "tabuleiro = [\n",
    "    ['X', 'O', 'X'],\n",
    "    [' ', 'X', 'O'],\n",
    "    ['O', ' ', 'O']\n",
    "]\n",
    "```\n",
    "O resultado seria \"Empate\", pois não há um vencedor no exemplo fornecido. \n",
    "\n",
    "Exemplo 2:\n",
    "```python\n",
    "tabuleiro = [\n",
    "    ['O', 'X', 'O'],\n",
    "    ['X', 'O', 'X'],\n",
    "    ['X', ' ', 'O']\n",
    "]\n",
    "```\n",
    "O resultado seria \"O\", pois 'O' venceu na diagonal central."
   ]
  },
  {
   "cell_type": "code",
   "execution_count": 12,
   "id": "720ca24d",
   "metadata": {},
   "outputs": [
    {
     "name": "stdout",
     "output_type": "stream",
     "text": [
      "Vencedor: X\n",
      "Vencedor: X\n",
      "Empate\n",
      "Vencedor: O\n",
      "Empate\n"
     ]
    }
   ],
   "source": [
    "def avalia_tabuleiro(tabuleiro):\n",
    "    vencedor = None\n",
    "\n",
    "    for linha in tabuleiro:\n",
    "        if linha[0] == linha[1] == linha[2]:\n",
    "            vencedor = linha[0]\n",
    "\n",
    "    for pos in range(3):\n",
    "        if tabuleiro[0][pos] == tabuleiro[1][pos] == tabuleiro[2][pos]:\n",
    "            vencedor = tabuleiro[0][pos]\n",
    "    \n",
    "    if tabuleiro[0][0] == tabuleiro[1][1] == tabuleiro[2][2]:\n",
    "        vencedor = tabuleiro[0][0]\n",
    "\n",
    "    elif tabuleiro[0][2] == tabuleiro[1][1] == tabuleiro[2][0]:\n",
    "        vencedor = tabuleiro[0][2]\n",
    "\n",
    "    if vencedor == 'X' or vencedor == 'O':\n",
    "        print(f'Vencedor: {vencedor}')\n",
    "    else:\n",
    "        print('Empate')\n",
    "\n",
    "\n",
    "tabuleiro1 = [\n",
    "    ['X', 'O', 'X'],\n",
    "    [' ', 'X', 'O'],\n",
    "    ['O', ' ', 'X']\n",
    "]\n",
    "\n",
    "tabuleiro2 = [\n",
    "    ['X', 'O', 'O'],\n",
    "    ['X', 'X', 'O'],\n",
    "    ['X', 'O', 'X']\n",
    "]\n",
    "\n",
    "tabuleiro3 = [\n",
    "    [' ', ' ', ' '],\n",
    "    ['X', ' ', 'O'],\n",
    "    ['O', 'X', 'X']\n",
    "]\n",
    "\n",
    "tabuleiro4 = [\n",
    "    ['O', 'O', 'O'],\n",
    "    ['X', ' ', 'X'],\n",
    "    ['O', 'X', 'X']\n",
    "]\n",
    "\n",
    "tabuleiro5 = [\n",
    "    ['X', 'X', 'O'],\n",
    "    ['X', ' ', 'O'],\n",
    "    ['O', 'O', 'X']\n",
    "]\n",
    "\n",
    "avalia_tabuleiro(tabuleiro1)\n",
    "avalia_tabuleiro(tabuleiro2)\n",
    "avalia_tabuleiro(tabuleiro3)\n",
    "avalia_tabuleiro(tabuleiro4)\n",
    "avalia_tabuleiro(tabuleiro5)\n"
   ]
  }
 ],
 "metadata": {
  "kernelspec": {
   "display_name": "Python 3",
   "language": "python",
   "name": "python3"
  },
  "language_info": {
   "codemirror_mode": {
    "name": "ipython",
    "version": 3
   },
   "file_extension": ".py",
   "mimetype": "text/x-python",
   "name": "python",
   "nbconvert_exporter": "python",
   "pygments_lexer": "ipython3",
   "version": "3.11.9"
  }
 },
 "nbformat": 4,
 "nbformat_minor": 5
}
