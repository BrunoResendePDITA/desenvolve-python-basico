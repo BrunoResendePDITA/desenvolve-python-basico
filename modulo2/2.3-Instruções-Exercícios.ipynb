{
  "cells": [
    {
      "cell_type": "markdown",
      "metadata": {
        "id": "1pCTdOHonv5f"
      },
      "source": [
        "# Módulo 2\n",
        "\n",
        "## 2.3 Instruções e Expressões\n",
        "\n",
        "### Q1\n",
        "\n",
        "Faça um programa que armazene o valor de 20 reais de salário por hora de um trabalhador, e o número de 40 horas trabalhadas na semana. Com essas informações, calcule e imprima:\n",
        "- Salário semanal bruto\n",
        "- Valor descontado por semana INSS (10% do bruto)\n",
        "- Valor descontado por semana pelo sindicato (5% do bruto)\n",
        "- Salário semanal líquido (Bruto - Descontos)"
      ]
    },
    {
      "cell_type": "code",
      "execution_count": 2,
      "metadata": {
        "id": "hVbX0I97nj6M"
      },
      "outputs": [
        {
          "name": "stdout",
          "output_type": "stream",
          "text": [
            "Salário semanal bruto: 800\n",
            "Valor descontado por semana: 80.0\n",
            "Valor descontado por semana pelo sindicato: 40.0\n",
            "Salário semanal líquido: 680.0\n"
          ]
        }
      ],
      "source": [
        "salario_hora = 20\n",
        "hrs_p_semana = 40\n",
        "\n",
        "salario_semanal_bruto   = salario_hora * hrs_p_semana\n",
        "desconto_INSS           = salario_semanal_bruto * 0.1\n",
        "desconto_sindicato      = salario_semanal_bruto * 0.05\n",
        "salario_semanal_liquido = salario_semanal_bruto - desconto_INSS - desconto_sindicato\n",
        "\n",
        "print(f'Salário semanal bruto: {salario_semanal_bruto}')\n",
        "print(f'Valor descontado por semana: {desconto_INSS}')\n",
        "print(f'Valor descontado por semana pelo sindicato: {desconto_sindicato}')\n",
        "print(f'Salário semanal líquido: {salario_semanal_liquido}')\n"
      ]
    },
    {
      "cell_type": "markdown",
      "metadata": {
        "id": "pIxKX9J2oGZ1"
      },
      "source": [
        "### Q2\n",
        "\n",
        "Altere o programa anterior para a partir dos valores de horas trabalhadas por semana e salário por hora, calcular **em somente duas instruções**:\n",
        "- Salário semanal bruto\n",
        "- Salário semanal líquido com todos os descontos. Para a segunda instrução, realize todos os cálculos aritméticos em uma expressão composta.\n"
      ]
    },
    {
      "cell_type": "code",
      "execution_count": 2,
      "metadata": {
        "id": "pAHw9Xf9oGoi"
      },
      "outputs": [
        {
          "name": "stdout",
          "output_type": "stream",
          "text": [
            "Salário semanal bruto: 800\n",
            "Salário semanal líquido: 320.0\n"
          ]
        }
      ],
      "source": [
        "salario_hora = 20\n",
        "hrs_p_semana = 40\n",
        "\n",
        "salario_semanal_bruto   = salario_hora * hrs_p_semana\n",
        "salario_semanal_liquido = salario_semanal_bruto - (salario_semanal_bruto * 0.10 + salario_semanal_bruto * 0.5)\n",
        "\n",
        "print(f'Salário semanal bruto: {salario_semanal_bruto}')\n",
        "print(f'Salário semanal líquido: {salario_semanal_liquido}')"
      ]
    },
    {
      "cell_type": "markdown",
      "metadata": {
        "id": "m8tlHRuWpBOB"
      },
      "source": [
        "### Q3\n",
        "\n",
        "Você está desenvolvendo um software de conversão de moeda e precisa calcular o valor equivalente em yuan chinês a partir de uma quantia em real. A taxa de câmbio é de 0.69 BRL (real) para 1 CNY (yuan). Escreva um programa que define em uma variável uma quantia em reais (BRL) e calcula o valor equivalente em yuan (CNY). Imprima o resultado."
      ]
    },
    {
      "cell_type": "code",
      "execution_count": null,
      "metadata": {
        "id": "2bPw7uF6oeL9"
      },
      "outputs": [
        {
          "name": "stdout",
          "output_type": "stream",
          "text": [
            "R$3.50 equivalem à 5.07 yuans\n"
          ]
        }
      ],
      "source": [
        "valor_em_reais = 3.50\n",
        "taxa_de_cambio = 0.69\n",
        "valor_em_yuan = valor_em_reais / taxa_de_cambio\n",
        "print(f'R${valor_em_reais:.2f} equivalem à {valor_em_yuan:.2f} yuans')\n"
      ]
    },
    {
      "cell_type": "markdown",
      "metadata": {
        "id": "-Na3ltDCp74A"
      },
      "source": [
        "### Q4\n",
        "\n",
        "Você é um treinador de corrida e deseja calcular a velocidade média que um atleta precisa manter para completar a Maratona Internacional de São Silvestre, que tem uma distância total de 42.195 km. A fórmula para calcular a velocidade média ($v\\_media$) é dada por $v\\_media = \\frac{distancia}{tempo}$ . Escreva um programa em Python para calcular a velocidade média necessária para completar a maratona em 3 horas.\n",
        "\n",
        "**Calcule e imprima o resultado em metros/segundo**, ou seja, converta a distância de quilômetros para metros ($metro = \\frac{km}{1000}$) e a velocidade de horas para segundos $(segundo = \\frac{hora}{3600})$."
      ]
    },
    {
      "cell_type": "code",
      "execution_count": 15,
      "metadata": {
        "id": "Bn6l8kcSrE4L"
      },
      "outputs": [
        {
          "name": "stdout",
          "output_type": "stream",
          "text": [
            "São necessários 3.9069444444444446 m/s para completar a maratona em 3 horas.\n"
          ]
        }
      ],
      "source": [
        "distancia_em_km = 42.195\n",
        "distancia_em_m = distancia_em_km * 1000\n",
        "\n",
        "tempo_em_hrs = 3\n",
        "tempo_em_segundos = tempo_em_hrs * 3600\n",
        "\n",
        "v_media = distancia_em_m / tempo_em_segundos\n",
        "\n",
        "print(f\"São necessários {v_media} m/s para completar a maratona em 3 horas.\")"
      ]
    }
  ],
  "metadata": {
    "colab": {
      "provenance": []
    },
    "kernelspec": {
      "display_name": "Python 3",
      "name": "python3"
    },
    "language_info": {
      "codemirror_mode": {
        "name": "ipython",
        "version": 3
      },
      "file_extension": ".py",
      "mimetype": "text/x-python",
      "name": "python",
      "nbconvert_exporter": "python",
      "pygments_lexer": "ipython3",
      "version": "3.11.9"
    }
  },
  "nbformat": 4,
  "nbformat_minor": 0
}
